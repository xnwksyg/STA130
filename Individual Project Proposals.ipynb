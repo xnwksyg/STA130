{
 "cells": [
  {
   "cell_type": "markdown",
   "id": "067725b6",
   "metadata": {},
   "source": [
    "## Analysis 1 - Explore the Relationship Between Gender and Wellness Life Satisfaction (Hypothesis Test)"
   ]
  },
  {
   "cell_type": "markdown",
   "id": "4dcd75b6",
   "metadata": {},
   "source": [
    "1. Variables to Explore:\n",
    "    + Gender: A categorical variable with categories like Male, Female, and possibly other gender identities (e.g., Non-Binary, Prefer Not to Say).\n",
    "    + WELLNESS_life_satisfaction: A numeric variable representing respondents' life satisfaction, from 1 to 10."
   ]
  },
  {
   "cell_type": "markdown",
   "id": "caa74984",
   "metadata": {},
   "source": [
    "2. Analysis to Perform:\n",
    "    + Data Filtering: Exclude observations for other gender categories so the dataset contains only Male and Female observations.\n",
    "    + Descriptive Statistics: Calculate the mean and standard deviation of WELLNESS_life_satisfaction for both Male and Female groups to compare average life satisfaction and variability.\n",
    "    + Visualization: Use box plots or bar charts to visually represent the WELLNESS_life_satisfaction scores for each gender, making it easier to see any apparent differences.\n",
    "    + Hypothesis Testing:\n",
    "        + Null Hypothesis (H0): Male's WELLNESS_life_satisfaction scores equals Female's.\n",
    "        + Alternative Hypothesis (Ha): Male's WELLNESS_life_satisfaction scores not equals Female's.\n"
   ]
  },
  {
   "cell_type": "markdown",
   "id": "87e492ec",
   "metadata": {},
   "source": [
    "3. Possible Results:\n",
    "    + If the p-value less than the significance level, we have enough evidence to reject H0, which means Male's WELLNESS_life_satisfaction scores not equals Female's, so that gender should be one factor that affect wellness life satisfaction score."
   ]
  },
  {
   "cell_type": "markdown",
   "id": "ec3bd452",
   "metadata": {},
   "source": [
    "4. Relevance for Course Project Objectives:\n",
    "    + Using hypothesis test to explore the possible factor."
   ]
  },
  {
   "cell_type": "markdown",
   "id": "3b49b818",
   "metadata": {},
   "source": [
    "## Analysis 2 - Explore the Mean of Wellness Life Satisfaction Scores by using Bootstrapping"
   ]
  },
  {
   "cell_type": "markdown",
   "id": "7239100f",
   "metadata": {},
   "source": [
    "1. Variables to Explore: \n",
    "    + WELLNESS_life_satisfaction: A numeric variable representing life satisfaction, from 1 to 10."
   ]
  },
  {
   "cell_type": "markdown",
   "id": "ecdbf727",
   "metadata": {},
   "source": [
    "2. Analysis to Perform:\n",
    "    + Visualization: Using histogram to visualize the data. It helps to assess the shape of the distribution (e.g., normal, skewed) and identify any potential outliers that might influence the bootstrapping results.\n",
    "    + Bootstrapping: \n",
    "        + Step 1: Resample the dataset with replacement to create a large number of bootstrapped samples (e.g., 1,000 samples).\n",
    "        + Step 2: For each bootstrapped sample, calculate the mean of WELLNESS_life_satisfaction.\n",
    "        + Step 3: Compile the bootstrapped means to create a distribution of mean satisfaction scores.\n",
    "        + Step 4: Calculate the 95% confidence interval (CI) for the mean by taking the 2.5th percentile and the 97.5th percentile of the bootstrapped means."
   ]
  },
  {
   "cell_type": "markdown",
   "id": "b515eb41",
   "metadata": {},
   "source": [
    "3. Possible Results:\n",
    "    + The confidence interval will help to estimate the reliability of the generated mean."
   ]
  },
  {
   "cell_type": "markdown",
   "id": "3804cab7",
   "metadata": {},
   "source": [
    "4. Relevane for Cours Project Objectives:\n",
    "    + Using bootstrapping to estimate the precision of statistic in a more efficient way (avoid repeating the experiment many times which is expensive and time consuming)."
   ]
  },
  {
   "cell_type": "markdown",
   "id": "05932275",
   "metadata": {},
   "source": [
    "## Analysis 3 - Explore the relationship betwee Age and Wellness Life Satisfication (Linear Regression)"
   ]
  },
  {
   "cell_type": "markdown",
   "id": "92641c8a",
   "metadata": {},
   "source": [
    "1. Variable to Explore: \n",
    "    + Demo_age: A numeric variable representing the age of respondents.\n",
    "    + WELLNESS_life_satisfaction: A numeric variable representing life satisfaction, from 1 to 10."
   ]
  },
  {
   "cell_type": "markdown",
   "id": "d9621ebf",
   "metadata": {},
   "source": [
    "2. Analysis to Perform: \n",
    "    + Linear Regression Method:\n",
    "        + Model Specification: Fit a linear regression model where WELLNESS_life_satisfaction is the dependent variable and Demo_age is the independent variable.\n",
    "        + Equation: The model can be expressed as:\n",
    "            \n",
    "            WELLNESS_life_satisfaction = $\\beta_0 + \\beta_1$ × Demo_age + $\\epsilon$\n",
    "            \n",
    "            where $\\beta_0$ is the intercept, $\\beta_1$ is the slope (coefficient for age), and $\\epsilon$ is the error term.\n",
    "        + Assumptions: Check the assumptions of linear regression, including linearity, independence, homoscedasticity (constant variance of errors), and normality of residuals.\n",
    "    + Visualization: Using scatter plot to show the relationship between age(x-axis) and wellness life satisfication score(y-axis), the plot will directly shows the correlation between age and score, helps to assess the nature of the relationship (linear, non-linear, or no relationship)"
   ]
  },
  {
   "cell_type": "markdown",
   "id": "4cf8c922",
   "metadata": {},
   "source": [
    "3. Possible Results: \n",
    "    + Linear regression will provide estimates for the intercept and slope. "
   ]
  },
  {
   "cell_type": "markdown",
   "id": "11f1e04e",
   "metadata": {},
   "source": [
    "4. Relevance for Course Project Objectives:\n",
    "    + Using linear regression to explore the relationship between age and wellness life satisfication."
   ]
  },
  {
   "cell_type": "code",
   "execution_count": null,
   "id": "f5b2585a",
   "metadata": {},
   "outputs": [],
   "source": []
  }
 ],
 "metadata": {
  "kernelspec": {
   "display_name": "Python 3 (ipykernel)",
   "language": "python",
   "name": "python3"
  },
  "language_info": {
   "codemirror_mode": {
    "name": "ipython",
    "version": 3
   },
   "file_extension": ".py",
   "mimetype": "text/x-python",
   "name": "python",
   "nbconvert_exporter": "python",
   "pygments_lexer": "ipython3",
   "version": "3.11.6"
  }
 },
 "nbformat": 4,
 "nbformat_minor": 5
}
